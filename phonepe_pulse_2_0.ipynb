{
  "nbformat": 4,
  "nbformat_minor": 0,
  "metadata": {
    "colab": {
      "provenance": [],
      "mount_file_id": "18bioJv8YRrSC-WvXNttb48q1OoeQFjSh",
      "authorship_tag": "ABX9TyPEAq1fqgugY1uNGcvwFzmK",
      "include_colab_link": true
    },
    "kernelspec": {
      "name": "python3",
      "display_name": "Python 3"
    },
    "language_info": {
      "name": "python"
    }
  },
  "cells": [
    {
      "cell_type": "markdown",
      "metadata": {
        "id": "view-in-github",
        "colab_type": "text"
      },
      "source": [
        "<a href=\"https://colab.research.google.com/github/AkAsH-2pac/PhonepePulse_DataVisualization/blob/main/phonepe_pulse_2_0.ipynb\" target=\"_parent\"><img src=\"https://colab.research.google.com/assets/colab-badge.svg\" alt=\"Open In Colab\"/></a>"
      ]
    },
    {
      "cell_type": "code",
      "execution_count": null,
      "metadata": {
        "id": "hiAtEvMymISr"
      },
      "outputs": [],
      "source": [
        "!git clone https://github.com/PhonePe/pulse.git"
      ]
    },
    {
      "cell_type": "code",
      "source": [
        "!pip install streamlit"
      ],
      "metadata": {
        "id": "jhaN-vuimNer"
      },
      "execution_count": null,
      "outputs": []
    },
    {
      "cell_type": "code",
      "source": [
        "import pandas as pd\n",
        "import numpy as np\n",
        "import matplotlib.pyplot as plt\n",
        "import requests\n",
        "import json\n",
        "import os\n",
        "import plotly.express as px\n",
        "import streamlit as st"
      ],
      "metadata": {
        "id": "ki69fsSQmX3p"
      },
      "execution_count": null,
      "outputs": []
    },
    {
      "cell_type": "code",
      "source": [
        "#This is to direct the path to get the data as states\n",
        "\n",
        "path=\"/content/pulse/data/aggregated/transaction/country/india/state/\"\n",
        "Agg_state_list=os.listdir(path)\n",
        "Agg_state_list\n",
        "#Agg_state_list--> to get the list of states in India\n",
        "\n",
        "#<------------------------------------------------------------------------------------------------------------------------------------------------------------------------------------------------------------>#\n",
        "\n",
        "#This is to extract the data's to create a dataframe\n",
        "\n",
        "clm={'State':[], 'Year':[],'Quarter':[],'Transaction_type':[], 'Transaction_count':[], 'Transaction_amount':[]}\n",
        "for i in Agg_state_list:\n",
        "    p_i=path+i+\"/\"\n",
        "    Agg_yr=os.listdir(p_i)    \n",
        "    for j in Agg_yr:\n",
        "        p_j=p_i+j+\"/\"\n",
        "        Agg_yr_list=os.listdir(p_j)        \n",
        "        for k in Agg_yr_list:\n",
        "            p_k=p_j+k\n",
        "            Data=open(p_k,'r')\n",
        "            D=json.load(Data)\n",
        "            for z in D['data']['transactionData']:\n",
        "              Name=z['name']\n",
        "              count=z['paymentInstruments'][0]['count']\n",
        "              amount=z['paymentInstruments'][0]['amount']\n",
        "              clm['Transaction_type'].append(Name)\n",
        "              clm['Transaction_count'].append(count)\n",
        "              clm['Transaction_amount'].append(amount)\n",
        "              clm['State'].append(i)\n",
        "              clm['Year'].append(j)\n",
        "              clm['Quarter'].append(int(k.strip('.json')))\n",
        "#Succesfully created a dataframe\n",
        "df = pd.DataFrame(clm)\n",
        "\n"
      ],
      "metadata": {
        "id": "yp-aGrJQmbq6"
      },
      "execution_count": null,
      "outputs": []
    },
    {
      "cell_type": "code",
      "source": [
        "df.head()"
      ],
      "metadata": {
        "id": "_Y7CdwkbmfSP"
      },
      "execution_count": null,
      "outputs": []
    },
    {
      "cell_type": "code",
      "source": [
        "df.isnull().sum()"
      ],
      "metadata": {
        "id": "Jgf-yn7Kmito"
      },
      "execution_count": null,
      "outputs": []
    },
    {
      "cell_type": "code",
      "source": [
        "path='/content/pulse/data/aggregated/user/country/india/state/'\n",
        "Agg_state_list=os.listdir(path)\n",
        "clm2={'State':[], 'Year':[],'Quarter':[],'Brand':[], 'Count':[], 'Percentage':[]}\n",
        "for i in Agg_state_list:\n",
        "    p_i=path+i+\"/\"    \n",
        "    Agg_yr=os.listdir(p_i) \n",
        "    for j in Agg_yr:\n",
        "        p_j=p_i+j+\"/\"\n",
        "        Agg_yr_list=os.listdir(p_j)        \n",
        "        for k in Agg_yr_list:\n",
        "            p_k=p_j+k\n",
        "            Data=open(p_k,'r')            \n",
        "            D=json.load(Data)\n",
        "            try:\n",
        "                for z in D['data']['usersByDevice']:\n",
        "                    clm2['Brand'].append(z['brand'])\n",
        "                    clm2['Count'].append(z['count'])\n",
        "                    clm2['Percentage']=(z['percentage'])\n",
        "                    clm2['State'].append(i)\n",
        "                    clm2['Year'].append(j)\n",
        "                    clm2['Quarter'].append(int(k.strip('.json')))\n",
        "            except:\n",
        "                pass\n",
        "\n",
        "df1=pd.DataFrame(clm2)\n",
        "df1.head()"
      ],
      "metadata": {
        "id": "IYksrxiQmklo"
      },
      "execution_count": null,
      "outputs": []
    },
    {
      "cell_type": "code",
      "source": [
        "df1.isnull().sum()"
      ],
      "metadata": {
        "id": "TveqFUrRmnhg"
      },
      "execution_count": null,
      "outputs": []
    },
    {
      "cell_type": "code",
      "source": [
        "path=\"/content/pulse/data/map/transaction/hover/country/india/state/\"\n",
        "hover_state_list=os.listdir(path)\n",
        "hover_state_list\n",
        "\n",
        "clm3={'State':[], 'Year':[],'Quarter':[],'District':[], 'Count':[], 'Amount':[]}\n",
        "for i in hover_state_list:\n",
        "    p_i=path+i+\"/\"\n",
        "    hover_yr=os.listdir(p_i)    \n",
        "    for j in hover_yr:\n",
        "        p_j=p_i+j+\"/\"\n",
        "        hover_yr_list=os.listdir(p_j)        \n",
        "        for k in hover_yr_list:\n",
        "            p_k=p_j+k\n",
        "            Data=open(p_k,'r')\n",
        "            D=json.load(Data)\n",
        "            for z in D['data']['hoverDataList']:\n",
        "              Name=z['name']\n",
        "              count=z['metric'][0]['count']\n",
        "              amount=z['metric'][0]['amount']\n",
        "              clm3['District'].append(Name)\n",
        "              clm3['Count'].append(count)\n",
        "              clm3['Amount'].append(amount)\n",
        "              clm3['State'].append(i)\n",
        "              clm3['Year'].append(j)\n",
        "              clm3['Quarter'].append(int(k.strip('.json')))\n",
        "#Succesfully created a dataframe\n",
        "df2 = pd.DataFrame(clm3)\n",
        "\n",
        "df2.head()"
      ],
      "metadata": {
        "id": "7eJDschUmpjn"
      },
      "execution_count": null,
      "outputs": []
    },
    {
      "cell_type": "code",
      "source": [
        "df2.isnull().sum()"
      ],
      "metadata": {
        "id": "1czseLEhmsVJ"
      },
      "execution_count": null,
      "outputs": []
    },
    {
      "cell_type": "code",
      "source": [
        "path='/content/pulse/data/map/user/hover/country/india/state/'\n",
        "\n",
        "hover_state_list=os.listdir(path)\n",
        "hover_state_list\n",
        "\n",
        "clm4={'State':[], 'Year':[],'Quarter':[],'Users':[], 'Districts':[]}\n",
        "for i in hover_state_list:\n",
        "    p_i=path+i+\"/\"\n",
        "    hover_yr=os.listdir(p_i)    \n",
        "    for j in hover_yr:\n",
        "        p_j=p_i+j+\"/\"\n",
        "        hover_yr_list=os.listdir(p_j)        \n",
        "        for k in hover_yr_list:\n",
        "            p_k=p_j+k\n",
        "            Data=open(p_k,'r')\n",
        "            D=json.load(Data)\n",
        "            for district, values in D['data']['hoverData'].items():\n",
        "              users=values['registeredUsers']\n",
        "              dist=district\n",
        "              clm4['Users'].append(users)\n",
        "              clm4['Districts'].append(dist)\n",
        "              clm4['State'].append(i)\n",
        "              clm4['Year'].append(j)\n",
        "              clm4['Quarter'].append(int(k.strip('.json')))\n",
        "\n",
        "#Succesfully created a dataframe\n",
        "df3 = pd.DataFrame(clm4)\n",
        "df3.head()"
      ],
      "metadata": {
        "id": "d5nCzYsNmuEo"
      },
      "execution_count": null,
      "outputs": []
    },
    {
      "cell_type": "code",
      "source": [
        "df3.isnull().sum()"
      ],
      "metadata": {
        "id": "YHkr-qO0nZ-S"
      },
      "execution_count": null,
      "outputs": []
    },
    {
      "cell_type": "code",
      "source": [
        "path=\"/content/pulse/data/top/transaction/country/india/state/\"\n",
        "top_state_list=os.listdir(path)\n",
        "top_state_list\n",
        "\n",
        "clm5={'State':[], 'Year':[],'Quarter':[],'Districts':[], 'Count':[], 'Amount':[]}\n",
        "for i in top_state_list:\n",
        "    p_i=path+i+\"/\"\n",
        "    top_yr=os.listdir(p_i)    \n",
        "    for j in top_yr:\n",
        "        p_j=p_i+j+\"/\"\n",
        "        top_yr_list=os.listdir(p_j)        \n",
        "        for k in top_yr_list:\n",
        "            p_k=p_j+k\n",
        "            with open(p_k, 'r') as file:\n",
        "                D=json.load(file)\n",
        "            for z in D['data']['districts']:\n",
        "              Name=z['entityName']\n",
        "              count=z['metric']['count']\n",
        "              amount=z['metric']['amount']\n",
        "              clm5['Districts'].append(Name)\n",
        "              clm5['Count'].append(count)\n",
        "              clm5['Amount'].append(amount)\n",
        "              clm5['State'].append(i)\n",
        "              clm5['Year'].append(j)\n",
        "              clm5['Quarter'].append(int(k.strip('.json')))\n",
        "\n",
        "df4 = pd.DataFrame(clm5)\n",
        "df4.head()"
      ],
      "metadata": {
        "colab": {
          "base_uri": "https://localhost:8080/",
          "height": 206
        },
        "id": "NbRKfuMFnw0d",
        "outputId": "25073a56-31ac-4dad-f84c-24fca4ff4ec4"
      },
      "execution_count": null,
      "outputs": [
        {
          "output_type": "execute_result",
          "data": {
            "text/plain": [
              "            State  Year  Quarter      Districts     Count        Amount\n",
              "0  andhra-pradesh  2020        3  visakhapatnam  34421299  6.762844e+10\n",
              "1  andhra-pradesh  2020        3       chittoor  20501863  4.281157e+10\n",
              "2  andhra-pradesh  2020        3        krishna  19110457  4.478846e+10\n",
              "3  andhra-pradesh  2020        3  east godavari  17972431  3.930004e+10\n",
              "4  andhra-pradesh  2020        3         guntur  17601395  4.253120e+10"
            ],
            "text/html": [
              "\n",
              "  <div id=\"df-2d1c1c04-322f-46c4-95e4-2a9c17a1821c\">\n",
              "    <div class=\"colab-df-container\">\n",
              "      <div>\n",
              "<style scoped>\n",
              "    .dataframe tbody tr th:only-of-type {\n",
              "        vertical-align: middle;\n",
              "    }\n",
              "\n",
              "    .dataframe tbody tr th {\n",
              "        vertical-align: top;\n",
              "    }\n",
              "\n",
              "    .dataframe thead th {\n",
              "        text-align: right;\n",
              "    }\n",
              "</style>\n",
              "<table border=\"1\" class=\"dataframe\">\n",
              "  <thead>\n",
              "    <tr style=\"text-align: right;\">\n",
              "      <th></th>\n",
              "      <th>State</th>\n",
              "      <th>Year</th>\n",
              "      <th>Quarter</th>\n",
              "      <th>Districts</th>\n",
              "      <th>Count</th>\n",
              "      <th>Amount</th>\n",
              "    </tr>\n",
              "  </thead>\n",
              "  <tbody>\n",
              "    <tr>\n",
              "      <th>0</th>\n",
              "      <td>andhra-pradesh</td>\n",
              "      <td>2020</td>\n",
              "      <td>3</td>\n",
              "      <td>visakhapatnam</td>\n",
              "      <td>34421299</td>\n",
              "      <td>6.762844e+10</td>\n",
              "    </tr>\n",
              "    <tr>\n",
              "      <th>1</th>\n",
              "      <td>andhra-pradesh</td>\n",
              "      <td>2020</td>\n",
              "      <td>3</td>\n",
              "      <td>chittoor</td>\n",
              "      <td>20501863</td>\n",
              "      <td>4.281157e+10</td>\n",
              "    </tr>\n",
              "    <tr>\n",
              "      <th>2</th>\n",
              "      <td>andhra-pradesh</td>\n",
              "      <td>2020</td>\n",
              "      <td>3</td>\n",
              "      <td>krishna</td>\n",
              "      <td>19110457</td>\n",
              "      <td>4.478846e+10</td>\n",
              "    </tr>\n",
              "    <tr>\n",
              "      <th>3</th>\n",
              "      <td>andhra-pradesh</td>\n",
              "      <td>2020</td>\n",
              "      <td>3</td>\n",
              "      <td>east godavari</td>\n",
              "      <td>17972431</td>\n",
              "      <td>3.930004e+10</td>\n",
              "    </tr>\n",
              "    <tr>\n",
              "      <th>4</th>\n",
              "      <td>andhra-pradesh</td>\n",
              "      <td>2020</td>\n",
              "      <td>3</td>\n",
              "      <td>guntur</td>\n",
              "      <td>17601395</td>\n",
              "      <td>4.253120e+10</td>\n",
              "    </tr>\n",
              "  </tbody>\n",
              "</table>\n",
              "</div>\n",
              "      <button class=\"colab-df-convert\" onclick=\"convertToInteractive('df-2d1c1c04-322f-46c4-95e4-2a9c17a1821c')\"\n",
              "              title=\"Convert this dataframe to an interactive table.\"\n",
              "              style=\"display:none;\">\n",
              "        \n",
              "  <svg xmlns=\"http://www.w3.org/2000/svg\" height=\"24px\"viewBox=\"0 0 24 24\"\n",
              "       width=\"24px\">\n",
              "    <path d=\"M0 0h24v24H0V0z\" fill=\"none\"/>\n",
              "    <path d=\"M18.56 5.44l.94 2.06.94-2.06 2.06-.94-2.06-.94-.94-2.06-.94 2.06-2.06.94zm-11 1L8.5 8.5l.94-2.06 2.06-.94-2.06-.94L8.5 2.5l-.94 2.06-2.06.94zm10 10l.94 2.06.94-2.06 2.06-.94-2.06-.94-.94-2.06-.94 2.06-2.06.94z\"/><path d=\"M17.41 7.96l-1.37-1.37c-.4-.4-.92-.59-1.43-.59-.52 0-1.04.2-1.43.59L10.3 9.45l-7.72 7.72c-.78.78-.78 2.05 0 2.83L4 21.41c.39.39.9.59 1.41.59.51 0 1.02-.2 1.41-.59l7.78-7.78 2.81-2.81c.8-.78.8-2.07 0-2.86zM5.41 20L4 18.59l7.72-7.72 1.47 1.35L5.41 20z\"/>\n",
              "  </svg>\n",
              "      </button>\n",
              "      \n",
              "  <style>\n",
              "    .colab-df-container {\n",
              "      display:flex;\n",
              "      flex-wrap:wrap;\n",
              "      gap: 12px;\n",
              "    }\n",
              "\n",
              "    .colab-df-convert {\n",
              "      background-color: #E8F0FE;\n",
              "      border: none;\n",
              "      border-radius: 50%;\n",
              "      cursor: pointer;\n",
              "      display: none;\n",
              "      fill: #1967D2;\n",
              "      height: 32px;\n",
              "      padding: 0 0 0 0;\n",
              "      width: 32px;\n",
              "    }\n",
              "\n",
              "    .colab-df-convert:hover {\n",
              "      background-color: #E2EBFA;\n",
              "      box-shadow: 0px 1px 2px rgba(60, 64, 67, 0.3), 0px 1px 3px 1px rgba(60, 64, 67, 0.15);\n",
              "      fill: #174EA6;\n",
              "    }\n",
              "\n",
              "    [theme=dark] .colab-df-convert {\n",
              "      background-color: #3B4455;\n",
              "      fill: #D2E3FC;\n",
              "    }\n",
              "\n",
              "    [theme=dark] .colab-df-convert:hover {\n",
              "      background-color: #434B5C;\n",
              "      box-shadow: 0px 1px 3px 1px rgba(0, 0, 0, 0.15);\n",
              "      filter: drop-shadow(0px 1px 2px rgba(0, 0, 0, 0.3));\n",
              "      fill: #FFFFFF;\n",
              "    }\n",
              "  </style>\n",
              "\n",
              "      <script>\n",
              "        const buttonEl =\n",
              "          document.querySelector('#df-2d1c1c04-322f-46c4-95e4-2a9c17a1821c button.colab-df-convert');\n",
              "        buttonEl.style.display =\n",
              "          google.colab.kernel.accessAllowed ? 'block' : 'none';\n",
              "\n",
              "        async function convertToInteractive(key) {\n",
              "          const element = document.querySelector('#df-2d1c1c04-322f-46c4-95e4-2a9c17a1821c');\n",
              "          const dataTable =\n",
              "            await google.colab.kernel.invokeFunction('convertToInteractive',\n",
              "                                                     [key], {});\n",
              "          if (!dataTable) return;\n",
              "\n",
              "          const docLinkHtml = 'Like what you see? Visit the ' +\n",
              "            '<a target=\"_blank\" href=https://colab.research.google.com/notebooks/data_table.ipynb>data table notebook</a>'\n",
              "            + ' to learn more about interactive tables.';\n",
              "          element.innerHTML = '';\n",
              "          dataTable['output_type'] = 'display_data';\n",
              "          await google.colab.output.renderOutput(dataTable, element);\n",
              "          const docLink = document.createElement('div');\n",
              "          docLink.innerHTML = docLinkHtml;\n",
              "          element.appendChild(docLink);\n",
              "        }\n",
              "      </script>\n",
              "    </div>\n",
              "  </div>\n",
              "  "
            ]
          },
          "metadata": {},
          "execution_count": 13
        }
      ]
    },
    {
      "cell_type": "code",
      "source": [
        "df4.isnull().sum()"
      ],
      "metadata": {
        "colab": {
          "base_uri": "https://localhost:8080/"
        },
        "id": "nbJQLjb6n4Y-",
        "outputId": "a90aa8eb-78fd-4238-b830-54a0186b68b4"
      },
      "execution_count": null,
      "outputs": [
        {
          "output_type": "execute_result",
          "data": {
            "text/plain": [
              "State        0\n",
              "Year         0\n",
              "Quarter      0\n",
              "Districts    0\n",
              "Count        0\n",
              "Amount       0\n",
              "dtype: int64"
            ]
          },
          "metadata": {},
          "execution_count": 14
        }
      ]
    },
    {
      "cell_type": "code",
      "source": [
        "path=\"/content/pulse/data/top/user/country/india/state/\"\n",
        "top_state_list=os.listdir(path)\n",
        "top_state_list\n",
        "\n",
        "clm6={'State':[], 'Year':[],'Quarter':[],'Districts':[], 'Users':[]}\n",
        "for i in top_state_list:\n",
        "    p_i=path+i+\"/\"\n",
        "    top_yr=os.listdir(p_i)    \n",
        "    for j in top_yr:\n",
        "        p_j=p_i+j+\"/\"\n",
        "        top_yr_list=os.listdir(p_j)        \n",
        "        for k in top_yr_list:\n",
        "            p_k=p_j+k\n",
        "            with open(p_k, 'r') as file:\n",
        "                D=json.load(file)\n",
        "            for z in D['data']['districts']:\n",
        "              Name=z['name']\n",
        "              count=z['registeredUsers']\n",
        "              clm6['Districts'].append(Name)\n",
        "              clm6['Users'].append(count)\n",
        "              clm6['State'].append(i)\n",
        "              clm6['Year'].append(j)\n",
        "              clm6['Quarter'].append(int(k.strip('.json')))\n",
        "\n",
        "df5 = pd.DataFrame(clm6)\n",
        "df5.head()"
      ],
      "metadata": {
        "id": "x-nd4esbn6bS"
      },
      "execution_count": null,
      "outputs": []
    },
    {
      "cell_type": "code",
      "source": [
        "df5.isnull().sum()"
      ],
      "metadata": {
        "colab": {
          "base_uri": "https://localhost:8080/"
        },
        "id": "oXFR7DI5n9rt",
        "outputId": "e5f6ec6f-4ec1-4b6b-904c-96911dbdbb83"
      },
      "execution_count": null,
      "outputs": [
        {
          "output_type": "execute_result",
          "data": {
            "text/plain": [
              "State        0\n",
              "Year         0\n",
              "Quarter      0\n",
              "Districts    0\n",
              "Users        0\n",
              "dtype: int64"
            ]
          },
          "metadata": {},
          "execution_count": 16
        }
      ]
    },
    {
      "cell_type": "code",
      "source": [
        "df3['State'].value_counts()"
      ],
      "metadata": {
        "colab": {
          "base_uri": "https://localhost:8080/"
        },
        "id": "RqeSs9bAoAGW",
        "outputId": "d06247ea-f060-4512-f95f-c39795aed8e0"
      },
      "execution_count": null,
      "outputs": [
        {
          "output_type": "execute_result",
          "data": {
            "text/plain": [
              "uttar-pradesh                         1500\n",
              "madhya-pradesh                        1040\n",
              "bihar                                  760\n",
              "tamil-nadu                             740\n",
              "maharashtra                            720\n",
              "rajasthan                              660\n",
              "gujarat                                660\n",
              "assam                                  660\n",
              "telangana                              660\n",
              "odisha                                 600\n",
              "karnataka                              600\n",
              "chhattisgarh                           540\n",
              "arunachal-pradesh                      500\n",
              "jharkhand                              480\n",
              "west-bengal                            460\n",
              "punjab                                 440\n",
              "haryana                                440\n",
              "jammu-&-kashmir                        440\n",
              "manipur                                320\n",
              "kerala                                 280\n",
              "andhra-pradesh                         260\n",
              "uttarakhand                            260\n",
              "himachal-pradesh                       240\n",
              "meghalaya                              220\n",
              "delhi                                  220\n",
              "nagaland                               220\n",
              "mizoram                                160\n",
              "tripura                                160\n",
              "puducherry                              80\n",
              "sikkim                                  80\n",
              "dadra-&-nagar-haveli-&-daman-&-diu      60\n",
              "andaman-&-nicobar-islands               60\n",
              "goa                                     40\n",
              "ladakh                                  40\n",
              "lakshadweep                             20\n",
              "chandigarh                              20\n",
              "Name: State, dtype: int64"
            ]
          },
          "metadata": {},
          "execution_count": 17
        }
      ]
    },
    {
      "cell_type": "code",
      "source": [
        "df.to_csv('agg_transaction.csv', index=False)\n",
        "df1.to_csv('agg_user.csv', index=False)\n",
        "df2.to_csv('map_transaction.csv', index=False)\n",
        "df3.to_csv('map_user.csv', index=False)\n",
        "df4.to_csv('top_transaction.csv', index=False)\n",
        "df5.to_csv('top_user.csv', index=False)\n"
      ],
      "metadata": {
        "id": "gI0W74dNoCDR"
      },
      "execution_count": null,
      "outputs": []
    },
    {
      "cell_type": "code",
      "source": [
        "import sqlite3"
      ],
      "metadata": {
        "id": "pHrEZz_2oF1T"
      },
      "execution_count": null,
      "outputs": []
    },
    {
      "cell_type": "code",
      "source": [
        "conn = sqlite3.connect('Phonepe_pulse.db')\n",
        "cursor = conn.cursor()"
      ],
      "metadata": {
        "id": "s24jZe58oIfI"
      },
      "execution_count": null,
      "outputs": []
    },
    {
      "cell_type": "code",
      "source": [
        "cursor.execute(\"\"\"\n",
        "CREATE TABLE agg_transaction(\n",
        "    id INTEGER PRIMARY KEY,\n",
        "    State VARCHAR(255),\n",
        "    Year INT,\n",
        "    Quarter INT,\n",
        "    Transaction_type TEXT,\n",
        "    Transaction_count INTEGER,    \n",
        "    Transaction_amount INT\n",
        ");\n",
        "\"\"\")"
      ],
      "metadata": {
        "colab": {
          "base_uri": "https://localhost:8080/"
        },
        "id": "O05dqorkoL3c",
        "outputId": "f9a07a11-eeb6-4c74-8726-0c94349ae22e"
      },
      "execution_count": null,
      "outputs": [
        {
          "output_type": "execute_result",
          "data": {
            "text/plain": [
              "<sqlite3.Cursor at 0x7f0a38977880>"
            ]
          },
          "metadata": {},
          "execution_count": 21
        }
      ]
    },
    {
      "cell_type": "code",
      "source": [
        "# Load the data into a DataFrame\n",
        "df = pd.read_csv(\"agg_transaction.csv\")\n",
        "\n",
        "# Insert the data from the DataFrame into the database\n",
        "df.to_sql(\"agg_transaction\", conn, if_exists=\"replace\", index=False)\n",
        "\n",
        "# Commit the changes\n",
        "conn.commit()"
      ],
      "metadata": {
        "id": "96pWhv3PoN4f"
      },
      "execution_count": null,
      "outputs": []
    },
    {
      "cell_type": "code",
      "source": [
        "cursor.execute(\"\"\"\n",
        "CREATE TABLE agg_user(\n",
        "    id INTEGER PRIMARY KEY,\n",
        "    State VARCHAR(255),\n",
        "    Year INT,\n",
        "    Quarter INT,\n",
        "    Brand TEXT,\n",
        "    Count INTEGER,\n",
        "    Percentage FLOAT\n",
        ");\n",
        "\"\"\")\n",
        "\n"
      ],
      "metadata": {
        "colab": {
          "base_uri": "https://localhost:8080/"
        },
        "id": "Ld1vgW5joQPD",
        "outputId": "eba3f020-6a7f-45d1-9617-ba5711e733cd"
      },
      "execution_count": null,
      "outputs": [
        {
          "output_type": "execute_result",
          "data": {
            "text/plain": [
              "<sqlite3.Cursor at 0x7f0a38977880>"
            ]
          },
          "metadata": {},
          "execution_count": 23
        }
      ]
    },
    {
      "cell_type": "code",
      "source": [
        "# Load the data into a DataFrame\n",
        "df = pd.read_csv(\"agg_user.csv\")\n",
        "\n",
        "# Insert the data from the DataFrame into the database\n",
        "df.to_sql(\"agg_user\", conn, if_exists=\"replace\", index=False)\n",
        "\n",
        "# Commit the changes\n",
        "conn.commit()\n"
      ],
      "metadata": {
        "id": "NctkKi3eoSYA"
      },
      "execution_count": null,
      "outputs": []
    },
    {
      "cell_type": "code",
      "source": [
        "cursor.execute(\"\"\"\n",
        "CREATE TABLE map_transaction(\n",
        "    id INTEGER PRIMARY KEY,\n",
        "    State VARCHAR(255),\n",
        "    Year INT,\n",
        "    Quarter INT,\n",
        "    District TEXT,\n",
        "    Count INTEGER,\n",
        "    Amount INT\n",
        ");\n",
        "\"\"\")\n",
        "  "
      ],
      "metadata": {
        "colab": {
          "base_uri": "https://localhost:8080/"
        },
        "id": "4c4KCn3GoUiQ",
        "outputId": "628c13ce-27e2-4809-f41a-a380d312f66a"
      },
      "execution_count": null,
      "outputs": [
        {
          "output_type": "execute_result",
          "data": {
            "text/plain": [
              "<sqlite3.Cursor at 0x7f0a38977880>"
            ]
          },
          "metadata": {},
          "execution_count": 25
        }
      ]
    },
    {
      "cell_type": "code",
      "source": [
        "# Load the data into a DataFrame\n",
        "df = pd.read_csv(\"map_transaction.csv\")\n",
        "\n",
        "# Insert the data from the DataFrame into the database\n",
        "df.to_sql(\"map_transaction\", conn, if_exists=\"replace\", index=False)\n",
        "\n",
        "# Commit the changes\n",
        "conn.commit()\n"
      ],
      "metadata": {
        "id": "LplOqAbXu7U4"
      },
      "execution_count": null,
      "outputs": []
    },
    {
      "cell_type": "code",
      "source": [
        "# Execute the query to create the filter view\n",
        "cursor.execute(\"SELECT State, Quarter, SUM(Transaction_amount) as Total_Transaction_amount FROM agg_transaction GROUP BY State, Quarter\")\n",
        "\n",
        "# Fetch the filtered rows\n",
        "filtered_rows = cursor.fetchall()\n",
        "\n",
        "# Create a DataFrame from the filtered rows\n",
        "df = pd.DataFrame(filtered_rows, columns=[\"State\", \"Quarter\", \"Transaction_amount\"])\n",
        "\n",
        "conn.commit()\n",
        "\n",
        "# Create a dropdown menu using Streamlit\n",
        "state = st.selectbox(\"Select State\", df[\"State\"].unique())\n",
        "\n",
        "# Filter the DataFrame based on the selected state\n",
        "df = df[df[\"State\"] == state]\n",
        "\n",
        "# Create a bar chart using Plotly Express\n",
        "fig = px.bar(df, x=\"Quarter\", y=\"Transaction_amount\", color=\"State\")\n",
        "\n",
        "# Display the bar chart using Streamlit\n",
        "st.plotly_chart(fig)\n"
      ],
      "metadata": {
        "colab": {
          "base_uri": "https://localhost:8080/"
        },
        "id": "BtG-KhLmu71n",
        "outputId": "d05640fe-cd68-4dc2-cdd2-a0207939179f"
      },
      "execution_count": null,
      "outputs": [
        {
          "output_type": "stream",
          "name": "stderr",
          "text": [
            "WARNING:root:\n",
            "  \u001b[33m\u001b[1mWarning:\u001b[0m to view this Streamlit app on a browser, run it with the following\n",
            "  command:\n",
            "\n",
            "    streamlit run /usr/local/lib/python3.8/dist-packages/ipykernel_launcher.py [ARGUMENTS]\n",
            "2023-03-05 22:15:19.717 \n",
            "  \u001b[33m\u001b[1mWarning:\u001b[0m to view this Streamlit app on a browser, run it with the following\n",
            "  command:\n",
            "\n",
            "    streamlit run /usr/local/lib/python3.8/dist-packages/ipykernel_launcher.py [ARGUMENTS]\n"
          ]
        },
        {
          "output_type": "execute_result",
          "data": {
            "text/plain": [
              "DeltaGenerator(_root_container=0, _provided_cursor=None, _parent=None, _block_type=None, _form_data=None)"
            ]
          },
          "metadata": {},
          "execution_count": 27
        }
      ]
    },
    {
      "cell_type": "code",
      "source": [
        "# Execute the query to create the filter view\n",
        "cursor.execute(\"SELECT State, Quarter, SUM(Brand and Count) as Brand FROM agg_user GROUP BY State, Quarter, Brand\")\n",
        "\n",
        "# Fetch the filtered rows\n",
        "filtered_rows = cursor.fetchall()\n",
        "\n",
        "# Create a DataFrame from the filtered rows\n",
        "df1 = pd.DataFrame(filtered_rows, columns=[\"State\", \"Quarter\", \"Brand\"])\n",
        "\n",
        "conn.commit()\n",
        "\n",
        "# Create a dropdown menu using Streamlit\n",
        "state = st.selectbox(\"Select State\", df[\"State\"].unique())\n",
        "\n",
        "# Filter the DataFrame based on the selected state\n",
        "df = df[df[\"State\"] == state]\n",
        "\n",
        "# Create a bar chart using Plotly Express\n",
        "fig = px.bar(df, x=\"Quarter\", y=\"Year\", color=\"State\")\n",
        "\n",
        "# Display the bar chart using Streamlit\n",
        "st.plotly_chart(fig)\n"
      ],
      "metadata": {
        "colab": {
          "base_uri": "https://localhost:8080/",
          "height": 399
        },
        "id": "iTzbAQDT1-pl",
        "outputId": "26115a23-84e5-4e41-d168-876205a708a0"
      },
      "execution_count": null,
      "outputs": [
        {
          "output_type": "error",
          "ename": "ValueError",
          "evalue": "ignored",
          "traceback": [
            "\u001b[0;31m---------------------------------------------------------------------------\u001b[0m",
            "\u001b[0;31mValueError\u001b[0m                                Traceback (most recent call last)",
            "\u001b[0;32m<ipython-input-29-cef2f1dbcfd7>\u001b[0m in \u001b[0;36m<module>\u001b[0;34m\u001b[0m\n\u001b[1;32m     17\u001b[0m \u001b[0;34m\u001b[0m\u001b[0m\n\u001b[1;32m     18\u001b[0m \u001b[0;31m# Create a bar chart using Plotly Express\u001b[0m\u001b[0;34m\u001b[0m\u001b[0;34m\u001b[0m\u001b[0;34m\u001b[0m\u001b[0m\n\u001b[0;32m---> 19\u001b[0;31m \u001b[0mfig\u001b[0m \u001b[0;34m=\u001b[0m \u001b[0mpx\u001b[0m\u001b[0;34m.\u001b[0m\u001b[0mbar\u001b[0m\u001b[0;34m(\u001b[0m\u001b[0mdf\u001b[0m\u001b[0;34m,\u001b[0m \u001b[0mx\u001b[0m\u001b[0;34m=\u001b[0m\u001b[0;34m\"Quarter\"\u001b[0m\u001b[0;34m,\u001b[0m \u001b[0my\u001b[0m\u001b[0;34m=\u001b[0m\u001b[0;34m\"Year\"\u001b[0m\u001b[0;34m,\u001b[0m \u001b[0mcolor\u001b[0m\u001b[0;34m=\u001b[0m\u001b[0;34m\"State\"\u001b[0m\u001b[0;34m)\u001b[0m\u001b[0;34m\u001b[0m\u001b[0;34m\u001b[0m\u001b[0m\n\u001b[0m\u001b[1;32m     20\u001b[0m \u001b[0;34m\u001b[0m\u001b[0m\n\u001b[1;32m     21\u001b[0m \u001b[0;31m# Display the bar chart using Streamlit\u001b[0m\u001b[0;34m\u001b[0m\u001b[0;34m\u001b[0m\u001b[0;34m\u001b[0m\u001b[0m\n",
            "\u001b[0;32m/usr/local/lib/python3.8/dist-packages/plotly/express/_chart_types.py\u001b[0m in \u001b[0;36mbar\u001b[0;34m(data_frame, x, y, color, pattern_shape, facet_row, facet_col, facet_col_wrap, facet_row_spacing, facet_col_spacing, hover_name, hover_data, custom_data, text, base, error_x, error_x_minus, error_y, error_y_minus, animation_frame, animation_group, category_orders, labels, color_discrete_sequence, color_discrete_map, color_continuous_scale, pattern_shape_sequence, pattern_shape_map, range_color, color_continuous_midpoint, opacity, orientation, barmode, log_x, log_y, range_x, range_y, text_auto, title, template, width, height)\u001b[0m\n\u001b[1;32m    366\u001b[0m     \u001b[0mmark\u001b[0m\u001b[0;34m.\u001b[0m\u001b[0;34m\u001b[0m\u001b[0;34m\u001b[0m\u001b[0m\n\u001b[1;32m    367\u001b[0m     \"\"\"\n\u001b[0;32m--> 368\u001b[0;31m     return make_figure(\n\u001b[0m\u001b[1;32m    369\u001b[0m         \u001b[0margs\u001b[0m\u001b[0;34m=\u001b[0m\u001b[0mlocals\u001b[0m\u001b[0;34m(\u001b[0m\u001b[0;34m)\u001b[0m\u001b[0;34m,\u001b[0m\u001b[0;34m\u001b[0m\u001b[0;34m\u001b[0m\u001b[0m\n\u001b[1;32m    370\u001b[0m         \u001b[0mconstructor\u001b[0m\u001b[0;34m=\u001b[0m\u001b[0mgo\u001b[0m\u001b[0;34m.\u001b[0m\u001b[0mBar\u001b[0m\u001b[0;34m,\u001b[0m\u001b[0;34m\u001b[0m\u001b[0;34m\u001b[0m\u001b[0m\n",
            "\u001b[0;32m/usr/local/lib/python3.8/dist-packages/plotly/express/_core.py\u001b[0m in \u001b[0;36mmake_figure\u001b[0;34m(args, constructor, trace_patch, layout_patch)\u001b[0m\n\u001b[1;32m   1943\u001b[0m     \u001b[0mapply_default_cascade\u001b[0m\u001b[0;34m(\u001b[0m\u001b[0margs\u001b[0m\u001b[0;34m)\u001b[0m\u001b[0;34m\u001b[0m\u001b[0;34m\u001b[0m\u001b[0m\n\u001b[1;32m   1944\u001b[0m \u001b[0;34m\u001b[0m\u001b[0m\n\u001b[0;32m-> 1945\u001b[0;31m     \u001b[0margs\u001b[0m \u001b[0;34m=\u001b[0m \u001b[0mbuild_dataframe\u001b[0m\u001b[0;34m(\u001b[0m\u001b[0margs\u001b[0m\u001b[0;34m,\u001b[0m \u001b[0mconstructor\u001b[0m\u001b[0;34m)\u001b[0m\u001b[0;34m\u001b[0m\u001b[0;34m\u001b[0m\u001b[0m\n\u001b[0m\u001b[1;32m   1946\u001b[0m     \u001b[0;32mif\u001b[0m \u001b[0mconstructor\u001b[0m \u001b[0;32min\u001b[0m \u001b[0;34m[\u001b[0m\u001b[0mgo\u001b[0m\u001b[0;34m.\u001b[0m\u001b[0mTreemap\u001b[0m\u001b[0;34m,\u001b[0m \u001b[0mgo\u001b[0m\u001b[0;34m.\u001b[0m\u001b[0mSunburst\u001b[0m\u001b[0;34m,\u001b[0m \u001b[0mgo\u001b[0m\u001b[0;34m.\u001b[0m\u001b[0mIcicle\u001b[0m\u001b[0;34m]\u001b[0m \u001b[0;32mand\u001b[0m \u001b[0margs\u001b[0m\u001b[0;34m[\u001b[0m\u001b[0;34m\"path\"\u001b[0m\u001b[0;34m]\u001b[0m \u001b[0;32mis\u001b[0m \u001b[0;32mnot\u001b[0m \u001b[0;32mNone\u001b[0m\u001b[0;34m:\u001b[0m\u001b[0;34m\u001b[0m\u001b[0;34m\u001b[0m\u001b[0m\n\u001b[1;32m   1947\u001b[0m         \u001b[0margs\u001b[0m \u001b[0;34m=\u001b[0m \u001b[0mprocess_dataframe_hierarchy\u001b[0m\u001b[0;34m(\u001b[0m\u001b[0margs\u001b[0m\u001b[0;34m)\u001b[0m\u001b[0;34m\u001b[0m\u001b[0;34m\u001b[0m\u001b[0m\n",
            "\u001b[0;32m/usr/local/lib/python3.8/dist-packages/plotly/express/_core.py\u001b[0m in \u001b[0;36mbuild_dataframe\u001b[0;34m(args, constructor)\u001b[0m\n\u001b[1;32m   1403\u001b[0m     \u001b[0;31m# now that things have been prepped, we do the systematic rewriting of `args`\u001b[0m\u001b[0;34m\u001b[0m\u001b[0;34m\u001b[0m\u001b[0;34m\u001b[0m\u001b[0m\n\u001b[1;32m   1404\u001b[0m \u001b[0;34m\u001b[0m\u001b[0m\n\u001b[0;32m-> 1405\u001b[0;31m     df_output, wide_id_vars = process_args_into_dataframe(\n\u001b[0m\u001b[1;32m   1406\u001b[0m         \u001b[0margs\u001b[0m\u001b[0;34m,\u001b[0m \u001b[0mwide_mode\u001b[0m\u001b[0;34m,\u001b[0m \u001b[0mvar_name\u001b[0m\u001b[0;34m,\u001b[0m \u001b[0mvalue_name\u001b[0m\u001b[0;34m\u001b[0m\u001b[0;34m\u001b[0m\u001b[0m\n\u001b[1;32m   1407\u001b[0m     )\n",
            "\u001b[0;32m/usr/local/lib/python3.8/dist-packages/plotly/express/_core.py\u001b[0m in \u001b[0;36mprocess_args_into_dataframe\u001b[0;34m(args, wide_mode, var_name, value_name)\u001b[0m\n\u001b[1;32m   1205\u001b[0m                         \u001b[0;32mif\u001b[0m \u001b[0margument\u001b[0m \u001b[0;34m==\u001b[0m \u001b[0;34m\"index\"\u001b[0m\u001b[0;34m:\u001b[0m\u001b[0;34m\u001b[0m\u001b[0;34m\u001b[0m\u001b[0m\n\u001b[1;32m   1206\u001b[0m                             \u001b[0merr_msg\u001b[0m \u001b[0;34m+=\u001b[0m \u001b[0;34m\"\\n To use the index, pass it in directly as `df.index`.\"\u001b[0m\u001b[0;34m\u001b[0m\u001b[0;34m\u001b[0m\u001b[0m\n\u001b[0;32m-> 1207\u001b[0;31m                         \u001b[0;32mraise\u001b[0m \u001b[0mValueError\u001b[0m\u001b[0;34m(\u001b[0m\u001b[0merr_msg\u001b[0m\u001b[0;34m)\u001b[0m\u001b[0;34m\u001b[0m\u001b[0;34m\u001b[0m\u001b[0m\n\u001b[0m\u001b[1;32m   1208\u001b[0m                 \u001b[0;32melif\u001b[0m \u001b[0mlength\u001b[0m \u001b[0;32mand\u001b[0m \u001b[0mlen\u001b[0m\u001b[0;34m(\u001b[0m\u001b[0mdf_input\u001b[0m\u001b[0;34m[\u001b[0m\u001b[0margument\u001b[0m\u001b[0;34m]\u001b[0m\u001b[0;34m)\u001b[0m \u001b[0;34m!=\u001b[0m \u001b[0mlength\u001b[0m\u001b[0;34m:\u001b[0m\u001b[0;34m\u001b[0m\u001b[0;34m\u001b[0m\u001b[0m\n\u001b[1;32m   1209\u001b[0m                     raise ValueError(\n",
            "\u001b[0;31mValueError\u001b[0m: Value of 'y' is not the name of a column in 'data_frame'. Expected one of ['State', 'Quarter', 'Transaction_amount'] but received: Year"
          ]
        }
      ]
    },
    {
      "cell_type": "code",
      "source": [
        "\n",
        "# Execute the query to create the filter view\n",
        "cursor.execute(\"SELECT State, Year, Quarter, Districts, SUM(Users) as Total_Users FROM map_user GROUP BY State, Year, Quarter, Districts, Users\")\n",
        "\n",
        "# Fetch the filtered rows\n",
        "filtered_rows = cursor.fetchall()\n",
        "\n",
        "# Create a DataFrame from the filtered rows\n",
        "df = pd.DataFrame(filtered_rows, columns=[\"State\", \"Year\", \"Quarter\", \"Districts\", \"Users\"])\n",
        "\n",
        "# Create a dropdown menu using Streamlit\n",
        "#state = st.selectbox(\"Select State\", df[\"State\"].unique())\n",
        "state_filter = st.selectbox(\"Select State\", [\"All\", *df['State'].unique()])\n",
        "year_filter = st.selectbox(\"Select Year\", [\"All\", *df['Year'].unique()])\n",
        "quater_filter = st.selectbox(\"Select Quarter\", [\"All\", *df['Quarter'].unique()])\n",
        "district_filter = st.selectbox(\"Select Districts\", [\"All\", *df['Districts'].unique()])\n",
        "\n",
        "\n",
        "if state_filter != \"All\":\n",
        "    df = df[df['State'] == state_filter]\n",
        "if year_filter != \"All\":\n",
        "    df = df[df['Year'] == int(year_filter)]\n",
        "if quater_filter != \"All\":\n",
        "    df = df[df['Quarter'] == quater_filter]\n",
        "if district_filter != \"All\":\n",
        "    df = df[df['Districts'] == district_filter]\n",
        "\n",
        "#df = df[(df['Users'] >= Total_Users[0]) & (df['Users'] <= Total_Users[1])]\n",
        "\n",
        "\n",
        "# create table\n",
        "st.write(df)\n",
        "\n"
      ],
      "metadata": {
        "colab": {
          "base_uri": "https://localhost:8080/",
          "height": 246
        },
        "id": "OXEDeCdA2Bvc",
        "outputId": "2c6cd9c6-5a4b-42c5-c1c0-c5b667f78952"
      },
      "execution_count": null,
      "outputs": [
        {
          "output_type": "error",
          "ename": "OperationalError",
          "evalue": "ignored",
          "traceback": [
            "\u001b[0;31m---------------------------------------------------------------------------\u001b[0m",
            "\u001b[0;31mOperationalError\u001b[0m                          Traceback (most recent call last)",
            "\u001b[0;32m<ipython-input-30-a68024900ace>\u001b[0m in \u001b[0;36m<module>\u001b[0;34m\u001b[0m\n\u001b[1;32m      1\u001b[0m \u001b[0;31m# Execute the query to create the filter view\u001b[0m\u001b[0;34m\u001b[0m\u001b[0;34m\u001b[0m\u001b[0;34m\u001b[0m\u001b[0m\n\u001b[0;32m----> 2\u001b[0;31m \u001b[0mcursor\u001b[0m\u001b[0;34m.\u001b[0m\u001b[0mexecute\u001b[0m\u001b[0;34m(\u001b[0m\u001b[0;34m\"SELECT State, Year, Quarter, Districts, SUM(Users) as Total_Users FROM map_user GROUP BY State, Year, Quarter, Districts, Users\"\u001b[0m\u001b[0;34m)\u001b[0m\u001b[0;34m\u001b[0m\u001b[0;34m\u001b[0m\u001b[0m\n\u001b[0m\u001b[1;32m      3\u001b[0m \u001b[0;34m\u001b[0m\u001b[0m\n\u001b[1;32m      4\u001b[0m \u001b[0;31m# Fetch the filtered rows\u001b[0m\u001b[0;34m\u001b[0m\u001b[0;34m\u001b[0m\u001b[0;34m\u001b[0m\u001b[0m\n\u001b[1;32m      5\u001b[0m \u001b[0mfiltered_rows\u001b[0m \u001b[0;34m=\u001b[0m \u001b[0mcursor\u001b[0m\u001b[0;34m.\u001b[0m\u001b[0mfetchall\u001b[0m\u001b[0;34m(\u001b[0m\u001b[0;34m)\u001b[0m\u001b[0;34m\u001b[0m\u001b[0;34m\u001b[0m\u001b[0m\n",
            "\u001b[0;31mOperationalError\u001b[0m: no such table: map_user"
          ]
        }
      ]
    },
    {
      "cell_type": "code",
      "source": [
        "\n",
        "# Execute the query to create the filter view\n",
        "cursor.execute(\"SELECT State, Quarter, Year, Districts , SUM(Amount) as total_amount FROM top_transaction GROUP BY State, Year, Quarter, Districts, Amount\")\n",
        "\n",
        "# Fetch the filtered rows\n",
        "filtered_rows = cursor.fetchall()\n",
        "\n",
        "# Create a DataFrame from the filtered rows\n",
        "df = pd.DataFrame(filtered_rows, columns=[\"State\", \"Quarter\", \"Year\", \"Districts\", \"Amount\"])\n",
        "\n",
        "# Create a dropdown menu using Streamlit\n",
        "#state = st.selectbox(\"Select State\", df[\"State\"].unique())\n",
        "state_filter = st.selectbox(\"Select State\", [\"All\", *df['State'].unique()])\n",
        "year_filter = st.selectbox(\"Select Year\", [\"All\", *df['Year'].unique()])\n",
        "district_filter = st.selectbox(\"Select Districts\", [\"All\", *df['Districts'].unique()])\n",
        "quater_filter = st.selectbox(\"Select Quarter\", [\"All\", *df['Quarter'].unique()])\n",
        "#total_amount = st.slider(\"Amount\", 0, 9000000, (0, 9000000))\n",
        "\n",
        "if state_filter != \"All\":\n",
        "    df = df[df['State'] == state_filter]\n",
        "if year_filter != \"All\":\n",
        "    df = df[df['Year'] == int(year_filter)]\n",
        "if quater_filter != \"All\":\n",
        "    df = df[df['Quarter'] == quater_filter]\n",
        "if district_filter != \"All\":\n",
        "    df = df[df['Districts'] == district_filter]\n",
        "\n",
        "#df = df[(df['Amount'] >= total_amount[0]) & (df['Amount'] <= total_amount[1])]\n",
        "\n",
        "\n",
        "# create table\n",
        "st.write(df)\n",
        "\n"
      ],
      "metadata": {
        "colab": {
          "base_uri": "https://localhost:8080/",
          "height": 246
        },
        "id": "Kq_wJQ7u257w",
        "outputId": "770ef410-d610-4070-9ef9-c3696dd92110"
      },
      "execution_count": null,
      "outputs": [
        {
          "output_type": "error",
          "ename": "OperationalError",
          "evalue": "ignored",
          "traceback": [
            "\u001b[0;31m---------------------------------------------------------------------------\u001b[0m",
            "\u001b[0;31mOperationalError\u001b[0m                          Traceback (most recent call last)",
            "\u001b[0;32m<ipython-input-31-912f6cab7780>\u001b[0m in \u001b[0;36m<module>\u001b[0;34m\u001b[0m\n\u001b[1;32m      1\u001b[0m \u001b[0;31m# Execute the query to create the filter view\u001b[0m\u001b[0;34m\u001b[0m\u001b[0;34m\u001b[0m\u001b[0;34m\u001b[0m\u001b[0m\n\u001b[0;32m----> 2\u001b[0;31m \u001b[0mcursor\u001b[0m\u001b[0;34m.\u001b[0m\u001b[0mexecute\u001b[0m\u001b[0;34m(\u001b[0m\u001b[0;34m\"SELECT State, Quarter, Year, Districts , SUM(Amount) as total_amount FROM top_transaction GROUP BY State, Year, Quarter, Districts, Amount\"\u001b[0m\u001b[0;34m)\u001b[0m\u001b[0;34m\u001b[0m\u001b[0;34m\u001b[0m\u001b[0m\n\u001b[0m\u001b[1;32m      3\u001b[0m \u001b[0;34m\u001b[0m\u001b[0m\n\u001b[1;32m      4\u001b[0m \u001b[0;31m# Fetch the filtered rows\u001b[0m\u001b[0;34m\u001b[0m\u001b[0;34m\u001b[0m\u001b[0;34m\u001b[0m\u001b[0m\n\u001b[1;32m      5\u001b[0m \u001b[0mfiltered_rows\u001b[0m \u001b[0;34m=\u001b[0m \u001b[0mcursor\u001b[0m\u001b[0;34m.\u001b[0m\u001b[0mfetchall\u001b[0m\u001b[0;34m(\u001b[0m\u001b[0;34m)\u001b[0m\u001b[0;34m\u001b[0m\u001b[0;34m\u001b[0m\u001b[0m\n",
            "\u001b[0;31mOperationalError\u001b[0m: no such table: top_transaction"
          ]
        }
      ]
    },
    {
      "cell_type": "code",
      "source": [
        "\n",
        "# Execute the query to create the filter view\n",
        "cursor.execute(\"SELECT State, Year, Quarter, Districts, SUM(Users) as Total_Users FROM top_user GROUP BY State, Year, Quarter, Districts, Users\")\n",
        "\n",
        "# Fetch the filtered rows\n",
        "filtered_rows = cursor.fetchall()\n",
        "\n",
        "# Create a DataFrame from the filtered rows\n",
        "df = pd.DataFrame(filtered_rows, columns=[\"State\", \"Year\", \"Quarter\", \"Districts\", \"Users\"])\n",
        "\n",
        "# Create a dropdown menu using Streamlit\n",
        "#state = st.selectbox(\"Select State\", df[\"State\"].unique())\n",
        "state_filter = st.selectbox(\"Select State\", [\"All\", *df['State'].unique()])\n",
        "year_filter = st.selectbox(\"Select Year\", [\"All\", *df['Year'].unique()])\n",
        "quater_filter = st.selectbox(\"Select Quarter\", [\"All\", *df['Quarter'].unique()])\n",
        "district_filter = st.selectbox(\"Select Districts\", [\"All\", *df['Districts'].unique()])\n",
        "\n",
        "\n",
        "if state_filter != \"All\":\n",
        "    df = df[df['State'] == state_filter]\n",
        "if year_filter != \"All\":\n",
        "    df = df[df['Year'] == int(year_filter)]\n",
        "if quater_filter != \"All\":\n",
        "    df = df[df['Quarter'] == quater_filter]\n",
        "if district_filter != \"All\":\n",
        "    df = df[df['Districts'] == district_filter]\n",
        "\n",
        "#df = df[(df['Users'] >= Total_Users[0]) & (df['Users'] <= Total_Users[1])]\n",
        "\n",
        "\n",
        "# create table\n",
        "st.write(df)\n",
        "\n"
      ],
      "metadata": {
        "colab": {
          "base_uri": "https://localhost:8080/",
          "height": 246
        },
        "id": "HS0G61Di28Pj",
        "outputId": "9072a493-f796-4a51-fcbf-fe6a5dc87b3f"
      },
      "execution_count": null,
      "outputs": [
        {
          "output_type": "error",
          "ename": "OperationalError",
          "evalue": "ignored",
          "traceback": [
            "\u001b[0;31m---------------------------------------------------------------------------\u001b[0m",
            "\u001b[0;31mOperationalError\u001b[0m                          Traceback (most recent call last)",
            "\u001b[0;32m<ipython-input-32-b25f93dea4c3>\u001b[0m in \u001b[0;36m<module>\u001b[0;34m\u001b[0m\n\u001b[1;32m      1\u001b[0m \u001b[0;31m# Execute the query to create the filter view\u001b[0m\u001b[0;34m\u001b[0m\u001b[0;34m\u001b[0m\u001b[0;34m\u001b[0m\u001b[0m\n\u001b[0;32m----> 2\u001b[0;31m \u001b[0mcursor\u001b[0m\u001b[0;34m.\u001b[0m\u001b[0mexecute\u001b[0m\u001b[0;34m(\u001b[0m\u001b[0;34m\"SELECT State, Year, Quarter, Districts, SUM(Users) as Total_Users FROM top_user GROUP BY State, Year, Quarter, Districts, Users\"\u001b[0m\u001b[0;34m)\u001b[0m\u001b[0;34m\u001b[0m\u001b[0;34m\u001b[0m\u001b[0m\n\u001b[0m\u001b[1;32m      3\u001b[0m \u001b[0;34m\u001b[0m\u001b[0m\n\u001b[1;32m      4\u001b[0m \u001b[0;31m# Fetch the filtered rows\u001b[0m\u001b[0;34m\u001b[0m\u001b[0;34m\u001b[0m\u001b[0;34m\u001b[0m\u001b[0m\n\u001b[1;32m      5\u001b[0m \u001b[0mfiltered_rows\u001b[0m \u001b[0;34m=\u001b[0m \u001b[0mcursor\u001b[0m\u001b[0;34m.\u001b[0m\u001b[0mfetchall\u001b[0m\u001b[0;34m(\u001b[0m\u001b[0;34m)\u001b[0m\u001b[0;34m\u001b[0m\u001b[0;34m\u001b[0m\u001b[0m\n",
            "\u001b[0;31mOperationalError\u001b[0m: no such table: top_user"
          ]
        }
      ]
    },
    {
      "cell_type": "code",
      "source": [
        "df = pd.read_csv(\"/content/agg_transaction.csv\")\n",
        "\n",
        "fig = px.choropleth(\n",
        "    df,\n",
        "    geojson=\"/content/agg_transaction.csv\",\n",
        "    featureidkey='properties.ST_NM',\n",
        "    locations='State',\n",
        "    color='Transaction_amount',\n",
        "    color_continuous_scale='Reds'\n",
        ")\n",
        "\n",
        "fig.update_geos(fitbounds=\"locations\", visible=False)\n",
        "\n",
        "fig.show()"
      ],
      "metadata": {
        "id": "FxiMUkOF2-KO"
      },
      "execution_count": null,
      "outputs": []
    },
    {
      "cell_type": "code",
      "source": [
        "import pandas as pd\n",
        "import plotly.graph_objects as go\n",
        "\n",
        "df = pd.read_csv(\"https://gist.githubusercontent.com/jbrobst/56c13bbbf9d97d187fea01ca62ea5112/raw/e388c4cae20aa53cb5090210a42ebb9b765c0a36/active_cases_2020-07-17_0800.csv\")\n",
        "\n",
        "fig = go.Figure(data=go.Choropleth(\n",
        "    geojson=\"https://gist.githubusercontent.com/jbrobst/56c13bbbf9d97d187fea01ca62ea5112/raw/e388c4cae20aa53cb5090210a42ebb9b765c0a36/india_states.geojson\",\n",
        "    featureidkey='properties.ST_NM',\n",
        "    locationmode='geojson-id',\n",
        "    locations=df['state'],\n",
        "    z=df['active cases'],\n",
        "\n",
        "    autocolorscale=False,\n",
        "    colorscale='Reds',\n",
        "    marker_line_color='peachpuff',\n",
        "\n",
        "    colorbar=dict(\n",
        "        title={'text': \"Active Cases\"},\n",
        "\n",
        "        thickness=15,\n",
        "        len=0.35,\n",
        "        bgcolor='rgba(255,255,255,0.6)',\n",
        "\n",
        "        tick0=0,\n",
        "        dtick=20000,\n",
        "\n",
        "        xanchor='left',\n",
        "        x=0.01,\n",
        "        yanchor='bottom',\n",
        "        y=0.05\n",
        "    )\n",
        "))\n",
        "\n",
        "fig.update_geos(\n",
        "    visible=False,\n",
        "    projection=dict(\n",
        "        type='conic conformal',\n",
        "        parallels=[12.472944444, 35.172805555556],\n",
        "        rotation={'lat': 24, 'lon': 80}\n",
        "    ),\n",
        "    lonaxis={'range': [68, 98]},\n",
        "    lataxis={'range': [6, 38]}\n",
        ")\n",
        "\n",
        "fig.update_layout(\n",
        "    title=dict(\n",
        "        text=\"Active COVID-19 Cases in India by State as of July 17, 2020\",\n",
        "        xanchor='center',\n",
        "        x=0.5,\n",
        "        yref='paper',\n",
        "        yanchor='bottom',\n",
        "        y=1,\n",
        "        pad={'b': 10}\n",
        "    ),\n",
        "    margin={'r': 0, 't': 30, 'l': 0, 'b': 0},\n",
        "    height=550,\n",
        "    width=550\n",
        ")\n",
        "\n",
        "fig.show()"
      ],
      "metadata": {
        "colab": {
          "base_uri": "https://localhost:8080/",
          "height": 567
        },
        "id": "uCVsZTPw3AVC",
        "outputId": "9259bf4a-e360-4e93-cdb0-28d8fae24779"
      },
      "execution_count": null,
      "outputs": [
        {
          "output_type": "display_data",
          "data": {
            "text/html": [
              "<html>\n",
              "<head><meta charset=\"utf-8\" /></head>\n",
              "<body>\n",
              "    <div>            <script src=\"https://cdnjs.cloudflare.com/ajax/libs/mathjax/2.7.5/MathJax.js?config=TeX-AMS-MML_SVG\"></script><script type=\"text/javascript\">if (window.MathJax) {MathJax.Hub.Config({SVG: {font: \"STIX-Web\"}});}</script>                <script type=\"text/javascript\">window.PlotlyConfig = {MathJaxConfig: 'local'};</script>\n",
              "        <script src=\"https://cdn.plot.ly/plotly-2.8.3.min.js\"></script>                <div id=\"f2d3384f-e698-440e-ad11-d54c842b8791\" class=\"plotly-graph-div\" style=\"height:550px; width:550px;\"></div>            <script type=\"text/javascript\">                                    window.PLOTLYENV=window.PLOTLYENV || {};                                    if (document.getElementById(\"f2d3384f-e698-440e-ad11-d54c842b8791\")) {                    Plotly.newPlot(                        \"f2d3384f-e698-440e-ad11-d54c842b8791\",                        [{\"autocolorscale\":false,\"colorbar\":{\"bgcolor\":\"rgba(255,255,255,0.6)\",\"dtick\":20000,\"len\":0.35,\"thickness\":15,\"tick0\":0,\"title\":{\"text\":\"Active Cases\"},\"x\":0.01,\"xanchor\":\"left\",\"y\":0.05,\"yanchor\":\"bottom\"},\"colorscale\":[[0.0,\"rgb(255,245,240)\"],[0.125,\"rgb(254,224,210)\"],[0.25,\"rgb(252,187,161)\"],[0.375,\"rgb(252,146,114)\"],[0.5,\"rgb(251,106,74)\"],[0.625,\"rgb(239,59,44)\"],[0.75,\"rgb(203,24,29)\"],[0.875,\"rgb(165,15,21)\"],[1.0,\"rgb(103,0,13)\"]],\"featureidkey\":\"properties.ST_NM\",\"geojson\":\"https://gist.githubusercontent.com/jbrobst/56c13bbbf9d97d187fea01ca62ea5112/raw/e388c4cae20aa53cb5090210a42ebb9b765c0a36/india_states.geojson\",\"locationmode\":\"geojson-id\",\"locations\":[\"Andaman & Nicobar\",\"Andhra Pradesh\",\"Arunachal Pradesh\",\"Assam\",\"Bihar\",\"Chandigarh\",\"Chhattisgarh\",\"Dadra and Nagar Haveli and Daman and Diu\",\"Delhi\",\"Goa\",\"Gujarat\",\"Haryana\",\"Himachal Pradesh\",\"Jammu & Kashmir\",\"Jharkhand\",\"Karnataka\",\"Kerala\",\"Ladakh\",\"Madhya Pradesh\",\"Maharashtra\",\"Manipur\",\"Meghalaya\",\"Mizoram\",\"Nagaland\",\"Odisha\",\"Puducherry\",\"Punjab\",\"Rajasthan\",\"Sikkim\",\"Tamil Nadu\",\"Telangana\",\"Tripura\",\"Uttarakhand\",\"Uttar Pradesh\",\"West Bengal\"],\"marker\":{\"line\":{\"color\":\"peachpuff\"}},\"z\":[47,18159,387,6818,7549,164,1260,179,17407,1272,11289,5495,382,5488,2069,30661,5376,176,5562,114947,635,309,112,525,4436,774,2587,6666,155,46717,13327,676,937,15720,13679],\"type\":\"choropleth\"}],                        {\"template\":{\"data\":{\"candlestick\":[{\"decreasing\":{\"line\":{\"color\":\"#000033\"}},\"increasing\":{\"line\":{\"color\":\"#000032\"}},\"type\":\"candlestick\"}],\"contourcarpet\":[{\"colorscale\":[[0.0,\"#000011\"],[0.1111111111111111,\"#000012\"],[0.2222222222222222,\"#000013\"],[0.3333333333333333,\"#000014\"],[0.4444444444444444,\"#000015\"],[0.5555555555555556,\"#000016\"],[0.6666666666666666,\"#000017\"],[0.7777777777777778,\"#000018\"],[0.8888888888888888,\"#000019\"],[1.0,\"#000020\"]],\"type\":\"contourcarpet\"}],\"contour\":[{\"colorscale\":[[0.0,\"#000011\"],[0.1111111111111111,\"#000012\"],[0.2222222222222222,\"#000013\"],[0.3333333333333333,\"#000014\"],[0.4444444444444444,\"#000015\"],[0.5555555555555556,\"#000016\"],[0.6666666666666666,\"#000017\"],[0.7777777777777778,\"#000018\"],[0.8888888888888888,\"#000019\"],[1.0,\"#000020\"]],\"type\":\"contour\"}],\"heatmap\":[{\"colorscale\":[[0.0,\"#000011\"],[0.1111111111111111,\"#000012\"],[0.2222222222222222,\"#000013\"],[0.3333333333333333,\"#000014\"],[0.4444444444444444,\"#000015\"],[0.5555555555555556,\"#000016\"],[0.6666666666666666,\"#000017\"],[0.7777777777777778,\"#000018\"],[0.8888888888888888,\"#000019\"],[1.0,\"#000020\"]],\"type\":\"heatmap\"}],\"histogram2d\":[{\"colorscale\":[[0.0,\"#000011\"],[0.1111111111111111,\"#000012\"],[0.2222222222222222,\"#000013\"],[0.3333333333333333,\"#000014\"],[0.4444444444444444,\"#000015\"],[0.5555555555555556,\"#000016\"],[0.6666666666666666,\"#000017\"],[0.7777777777777778,\"#000018\"],[0.8888888888888888,\"#000019\"],[1.0,\"#000020\"]],\"type\":\"histogram2d\"}],\"icicle\":[{\"textfont\":{\"color\":\"white\"},\"type\":\"icicle\"}],\"sankey\":[{\"textfont\":{\"color\":\"#000036\"},\"type\":\"sankey\"}],\"scatter\":[{\"marker\":{\"line\":{\"width\":0}},\"type\":\"scatter\"}],\"table\":[{\"cells\":{\"fill\":{\"color\":\"#000038\"},\"font\":{\"color\":\"#000037\"},\"line\":{\"color\":\"#000039\"}},\"header\":{\"fill\":{\"color\":\"#000040\"},\"font\":{\"color\":\"#000036\"},\"line\":{\"color\":\"#000039\"}},\"type\":\"table\"}],\"waterfall\":[{\"connector\":{\"line\":{\"color\":\"#000036\",\"width\":2}},\"decreasing\":{\"marker\":{\"color\":\"#000033\"}},\"increasing\":{\"marker\":{\"color\":\"#000032\"}},\"totals\":{\"marker\":{\"color\":\"#000034\"}},\"type\":\"waterfall\"}]},\"layout\":{\"coloraxis\":{\"colorscale\":[[0.0,\"#000011\"],[0.1111111111111111,\"#000012\"],[0.2222222222222222,\"#000013\"],[0.3333333333333333,\"#000014\"],[0.4444444444444444,\"#000015\"],[0.5555555555555556,\"#000016\"],[0.6666666666666666,\"#000017\"],[0.7777777777777778,\"#000018\"],[0.8888888888888888,\"#000019\"],[1.0,\"#000020\"]]},\"colorscale\":{\"diverging\":[[0.0,\"#000021\"],[0.1,\"#000022\"],[0.2,\"#000023\"],[0.3,\"#000024\"],[0.4,\"#000025\"],[0.5,\"#000026\"],[0.6,\"#000027\"],[0.7,\"#000028\"],[0.8,\"#000029\"],[0.9,\"#000030\"],[1.0,\"#000031\"]],\"sequential\":[[0.0,\"#000011\"],[0.1111111111111111,\"#000012\"],[0.2222222222222222,\"#000013\"],[0.3333333333333333,\"#000014\"],[0.4444444444444444,\"#000015\"],[0.5555555555555556,\"#000016\"],[0.6666666666666666,\"#000017\"],[0.7777777777777778,\"#000018\"],[0.8888888888888888,\"#000019\"],[1.0,\"#000020\"]],\"sequentialminus\":[[0.0,\"#000011\"],[0.1111111111111111,\"#000012\"],[0.2222222222222222,\"#000013\"],[0.3333333333333333,\"#000014\"],[0.4444444444444444,\"#000015\"],[0.5555555555555556,\"#000016\"],[0.6666666666666666,\"#000017\"],[0.7777777777777778,\"#000018\"],[0.8888888888888888,\"#000019\"],[1.0,\"#000020\"]]},\"colorway\":[\"#000001\",\"#000002\",\"#000003\",\"#000004\",\"#000005\",\"#000006\",\"#000007\",\"#000008\",\"#000009\",\"#000010\"]}},\"geo\":{\"projection\":{\"rotation\":{\"lat\":24,\"lon\":80},\"type\":\"conic conformal\",\"parallels\":[12.472944444,35.172805555556]},\"lonaxis\":{\"range\":[68,98]},\"lataxis\":{\"range\":[6,38]},\"visible\":false},\"title\":{\"pad\":{\"b\":10},\"text\":\"Active COVID-19 Cases in India by State as of July 17, 2020\",\"xanchor\":\"center\",\"x\":0.5,\"yref\":\"paper\",\"yanchor\":\"bottom\",\"y\":1},\"margin\":{\"r\":0,\"t\":30,\"l\":0,\"b\":0},\"height\":550,\"width\":550},                        {\"responsive\": true}                    ).then(function(){\n",
              "                            \n",
              "var gd = document.getElementById('f2d3384f-e698-440e-ad11-d54c842b8791');\n",
              "var x = new MutationObserver(function (mutations, observer) {{\n",
              "        var display = window.getComputedStyle(gd).display;\n",
              "        if (!display || display === 'none') {{\n",
              "            console.log([gd, 'removed!']);\n",
              "            Plotly.purge(gd);\n",
              "            observer.disconnect();\n",
              "        }}\n",
              "}});\n",
              "\n",
              "// Listen for the removal of the full notebook cells\n",
              "var notebookContainer = gd.closest('#notebook-container');\n",
              "if (notebookContainer) {{\n",
              "    x.observe(notebookContainer, {childList: true});\n",
              "}}\n",
              "\n",
              "// Listen for the clearing of the current output cell\n",
              "var outputEl = gd.closest('.output');\n",
              "if (outputEl) {{\n",
              "    x.observe(outputEl, {childList: true});\n",
              "}}\n",
              "\n",
              "                        })                };                            </script>        </div>\n",
              "</body>\n",
              "</html>"
            ]
          },
          "metadata": {}
        }
      ]
    },
    {
      "cell_type": "code",
      "source": [],
      "metadata": {
        "id": "hhrkH4Qr98x2"
      },
      "execution_count": null,
      "outputs": []
    }
  ]
}